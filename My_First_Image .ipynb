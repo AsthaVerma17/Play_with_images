{
 "cells": [
  {
   "cell_type": "code",
   "execution_count": 1,
   "metadata": {},
   "outputs": [],
   "source": [
    "import cv2"
   ]
  },
  {
   "cell_type": "code",
   "execution_count": 2,
   "metadata": {},
   "outputs": [],
   "source": [
    "import numpy as np"
   ]
  },
  {
   "cell_type": "code",
   "execution_count": 3,
   "metadata": {},
   "outputs": [],
   "source": [
    "blank_image=np.zeros(shape=[700,1000,3],dtype=np.uint8)"
   ]
  },
  {
   "cell_type": "code",
   "execution_count": 4,
   "metadata": {},
   "outputs": [],
   "source": [
    "cv2.rectangle(blank_image,(50,50),(950,650),[255,204,153],10)\n",
    "cv2.rectangle(blank_image,(100,100),(900,600),[0,255,255],8)\n",
    "cv2.rectangle(blank_image,(150,150),(850,550),[255,204,153],6)\n",
    "cv2.rectangle(blank_image,(200,200),(800,500),[0,255,255],4)\n",
    "cv2.rectangle(blank_image,(250,250),(750,450),[255,204,153],2)\n",
    "cv2.circle(blank_image,(500,350),90,[0,255,255],8)\n",
    "cv2.circle(blank_image,(500,350),70,[255,204,153],6)\n",
    "cv2.circle(blank_image,(500,350),50,[0,255,255],4)\n",
    "cv2.circle(blank_image,(500,350),30,[255,204,153],2)\n",
    "cv2.circle(blank_image,(500,350),10,[0,255,255],1)\n",
    "\n",
    "\n",
    "cv2.imshow('my_First_image',blank_image)\n",
    "cv2.waitKey()\n",
    "cv2.destroyAllWindows()"
   ]
  },
  {
   "cell_type": "code",
   "execution_count": null,
   "metadata": {},
   "outputs": [],
   "source": []
  },
  {
   "cell_type": "code",
   "execution_count": null,
   "metadata": {},
   "outputs": [],
   "source": []
  },
  {
   "cell_type": "code",
   "execution_count": null,
   "metadata": {},
   "outputs": [],
   "source": []
  }
 ],
 "metadata": {
  "kernelspec": {
   "display_name": "Python 3",
   "language": "python",
   "name": "python3"
  },
  "language_info": {
   "codemirror_mode": {
    "name": "ipython",
    "version": 3
   },
   "file_extension": ".py",
   "mimetype": "text/x-python",
   "name": "python",
   "nbconvert_exporter": "python",
   "pygments_lexer": "ipython3",
   "version": "3.8.5"
  }
 },
 "nbformat": 4,
 "nbformat_minor": 4
}
